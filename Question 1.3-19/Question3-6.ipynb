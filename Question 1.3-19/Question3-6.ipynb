{
 "cells": [
  {
   "cell_type": "code",
   "execution_count": 1,
   "id": "1f49e045-1794-4e76-b5ad-0074883cacad",
   "metadata": {},
   "outputs": [],
   "source": [
    "import sqlite3\n",
    "import pandas as pd\n",
    "import numpy as np"
   ]
  },
  {
   "cell_type": "code",
   "execution_count": 2,
   "id": "09882707-8ae2-40f8-8e0c-cd0462c9af86",
   "metadata": {},
   "outputs": [],
   "source": [
    "class LibraryBooks:\n",
    "    def __init__(self, user_id, book, author):\n",
    "        self.user_id = user_id\n",
    "        self.book = book\n",
    "        self.author = author\n",
    "        self.list_books = []\n",
    "        self.count = 0\n",
    "        \n",
    "        \n",
    "    def menu(self):\n",
    "        print(\"1. Search books\")\n",
    "        print(\"2. Student details\")\n",
    "        print(\"----------------------------------\")\n",
    "        inp = int(input(\"Enter the option (1-2): \"))\n",
    "        if inp == \"1\":\n",
    "            LibraryBooks.get_books(self)\n",
    "        elif inp == \"2\":\n",
    "            LibraryBooks.StudentDashboard(self)\n",
    "        \n",
    "    def get_books(self):\n",
    "        df = pd.read_excel(\"Book_lib.xlsx\")\n",
    "        self.user_input = input(\"Enter the book you want to search: \")\n",
    "        if (df['Books'] == self.user_input).any():\n",
    "            print(\"Book is available\")\n",
    "            inp1 = input(\"Do you want to add/borrow book (yes / no) ? \")\n",
    "            if inp1 == \"yes\":\n",
    "                return LibraryBooks.borrowbooks(self)\n",
    "            elif inp1 == \"no\":\n",
    "                print(\"Thanks for visiting us\")\n",
    "            else:\n",
    "                print(\"Kindly only input yes or no\")\n",
    "        else:\n",
    "            print(\"Sorry, book is not available.\")\n",
    "    \n",
    "    def borrowbooks(self):\n",
    "        self.list_books.append(self.user_input)\n",
    "        self.count += 1\n",
    "        print(f\"Book '{self.user_input}' has been added/borrowed. Total books borrowed: {self.count}\")\n",
    "    \n",
    "    def StudentDashboard(self):\n",
    "        print(\"--------------------------------------------------\")\n",
    "        print(\"Email id of student: \", self.user_id)\n",
    "        print(\"Number of books borrowed: \", self.count)\n",
    "        print(\"Books borrowed are : \", self.list_books)\n",
    "        print(\"--------------------------------------------\")\n",
    "        "
   ]
  },
  {
   "cell_type": "code",
   "execution_count": 3,
   "id": "0e419a5a-67ee-416a-a8c5-bd82f451ce52",
   "metadata": {},
   "outputs": [
    {
     "name": "stdin",
     "output_type": "stream",
     "text": [
      "Enter the book you want to search:  Electrodynamics\n"
     ]
    },
    {
     "name": "stdout",
     "output_type": "stream",
     "text": [
      "Book is available\n"
     ]
    },
    {
     "name": "stdin",
     "output_type": "stream",
     "text": [
      "Do you want to add/borrow book (yes / no) ?  yes\n"
     ]
    },
    {
     "name": "stdout",
     "output_type": "stream",
     "text": [
      "Book 'Electrodynamics' has been added/borrowed. Total books borrowed: 1\n"
     ]
    }
   ],
   "source": [
    "obj = LibraryBooks(\"dishant@gmail.com\", \"Electrodynamics\", \"David j grifiths\")\n",
    "obj.get_books()"
   ]
  },
  {
   "cell_type": "markdown",
   "id": "6a3403c7-66b3-4cf3-806d-a5276640f7ae",
   "metadata": {},
   "source": [
    "### Question 4\n",
    "### Simple banking system"
   ]
  },
  {
   "cell_type": "code",
   "execution_count": 8,
   "id": "d7e84844-cf1d-4767-96e4-c27118cbeaa7",
   "metadata": {},
   "outputs": [
    {
     "name": "stdout",
     "output_type": "stream",
     "text": [
      "\n",
      "Savings Account Transactions:\n",
      "Deposited Rs500.00. New balance: Rs1500.00\n",
      "Withdrew Rs200.00. New balance: Rs1300.00\n",
      "Interest applied: Rs26.00. New balance: Rs1326.00\n",
      "Current balance: Rs1326.00\n",
      "\n",
      "Checking Account Transactions:\n",
      "Deposited Rs300.00. New balance: Rs800.00\n",
      "Withdrew Rs700.00. New balance: Rs100.00\n",
      "Withdrew Rs100.00. New balance: Rs0.00\n",
      "Current balance: Rs0.00\n"
     ]
    }
   ],
   "source": [
    "class BankAccount:\n",
    "    def __init__(self, account_number, account_holder, balance=0.0):\n",
    "        self.account_number = account_number\n",
    "        self.account_holder = account_holder\n",
    "        self.balance = balance\n",
    "\n",
    "    def deposit(self, amount):\n",
    "        if amount > 0:\n",
    "            self.balance += amount\n",
    "            print(f\"Deposited Rs{amount:.2f}. New balance: Rs{self.balance:.2f}\")\n",
    "        else:\n",
    "            print(\"Deposit amount must be positive.\")\n",
    "\n",
    "    def withdraw(self, amount):\n",
    "        if 0 < amount <= self.balance:\n",
    "            self.balance -= amount\n",
    "            print(f\"Withdrew Rs{amount:.2f}. New balance: Rs{self.balance:.2f}\")\n",
    "        else:\n",
    "            print(\"Invalid withdraw amount or insufficient funds.\")\n",
    "\n",
    "    def inquire_balance(self):\n",
    "        print(f\"Current balance: Rs{self.balance:.2f}\")\n",
    "\n",
    "        \n",
    "class SavingsAccount(BankAccount):\n",
    "    def __init__(self, account_number, account_holder, balance=0.0, interest_rate=0.01):\n",
    "        super().__init__(account_number, account_holder, balance)\n",
    "        self.interest_rate = interest_rate\n",
    "\n",
    "    def apply_interest(self):\n",
    "        interest = self.balance * self.interest_rate\n",
    "        self.balance += interest\n",
    "        print(f\"Interest applied: Rs{interest:.2f}. New balance: Rs{self.balance:.2f}\")\n",
    "\n",
    "class CheckingAccount(BankAccount):\n",
    "    def __init__(self, account_number, account_holder, balance=0.0, overdraft_limit=100.0):\n",
    "        super().__init__(account_number, account_holder, balance)\n",
    "        self.overdraft_limit = overdraft_limit\n",
    "\n",
    "    def withdraw(self, amount):\n",
    "        if 0 < amount <= (self.balance + self.overdraft_limit):\n",
    "            self.balance -= amount\n",
    "            print(f\"Withdrew Rs{amount:.2f}. New balance: Rs{self.balance:.2f}\")\n",
    "        else:\n",
    "            print(\"Invalid withdraw amount or overdraft limit exceeded.\")\n",
    "\n",
    "            \n",
    "\n",
    "# Create instances of different account types\n",
    "savings_account = SavingsAccount(account_number=\"SA123\", account_holder=\"Alice\", balance=1000.0, interest_rate=0.02)\n",
    "checking_account = CheckingAccount(account_number=\"CA456\", account_holder=\"Bob\", balance=500.0, overdraft_limit=200.0)\n",
    "\n",
    "# Perform transactions on savings account\n",
    "print(\"\\nSavings Account Transactions:\")\n",
    "savings_account.deposit(500)\n",
    "savings_account.withdraw(200)\n",
    "savings_account.apply_interest()\n",
    "savings_account.inquire_balance()\n",
    "\n",
    "# Perform transactions on checking account\n",
    "print(\"\\nChecking Account Transactions:\")\n",
    "checking_account.deposit(300)\n",
    "checking_account.withdraw(700)\n",
    "checking_account.withdraw(100)\n",
    "checking_account.inquire_balance()\n"
   ]
  },
  {
   "cell_type": "markdown",
   "id": "69e917dc-ba12-40b7-aae0-fb785d8d0b08",
   "metadata": {},
   "source": [
    "### Question 5"
   ]
  },
  {
   "cell_type": "code",
   "execution_count": 9,
   "id": "8996061b-6b7b-42b3-adf8-174e72dd6f79",
   "metadata": {},
   "outputs": [
    {
     "name": "stdout",
     "output_type": "stream",
     "text": [
      "Dog says: Woof!\n",
      "Cat says: Meow!\n"
     ]
    }
   ],
   "source": [
    "class Animal:\n",
    "    def make_sound(self):\n",
    "        raise NotImplementedError(\"Subclasses must implement this method\")\n",
    "\n",
    "class Dog(Animal):\n",
    "    def make_sound(self):\n",
    "        return \"Woof!\"\n",
    "\n",
    "class Cat(Animal):\n",
    "    def make_sound(self):\n",
    "        return \"Meow!\"\n",
    "\n",
    "def test_animal_sounds():\n",
    "    # Create instances of Dog and Cat\n",
    "    dog = Dog()\n",
    "    cat = Cat()\n",
    "\n",
    "    # Call the make_sound() method for each instance and print the result\n",
    "    print(f\"Dog says: {dog.make_sound()}\")\n",
    "    print(f\"Cat says: {cat.make_sound()}\")\n",
    "\n",
    "# Run the test function\n",
    "test_animal_sounds()\n"
   ]
  },
  {
   "cell_type": "markdown",
   "id": "1bd2c150-9935-4302-9013-749c1c090ade",
   "metadata": {},
   "source": [
    "### Question 6\n",
    "### Restaurent management system"
   ]
  },
  {
   "cell_type": "code",
   "execution_count": 37,
   "id": "66dfd878-16e4-495a-ad99-3279a3446891",
   "metadata": {},
   "outputs": [
    {
     "name": "stdout",
     "output_type": "stream",
     "text": [
      "Following menu is as \n",
      "                Name  Price    Veg\n",
      "0             Burger     50   True\n",
      "1      Cheese Burger     80   True\n",
      "2     Chicken Burger    110  False\n",
      "3       Simple Pizza    100   True\n",
      "4       Cheese pizza    200   True\n",
      "5      Chicken Pizza    250  False\n",
      "6        Masala Dosa     70   True\n",
      "7        Paneer dosa    120   True\n",
      "8         Plain Dosa     50   True\n",
      "9       Kadai Paneer    300   True\n",
      "10       Dal makhani    250   True\n",
      "11  Paneer do pyaaza    300   True\n",
      "12       Gulab jamun     50   True\n",
      "13             Lassi     40   True\n",
      "14        Cold drink     40   True\n",
      "15       Mango shake     50   True\n",
      "16     Vanilla shake     50   True\n",
      "17   Chocolate shake     50   True\n",
      "18        Oreo shake    100   True\n",
      "19         Ice cream    120   True\n",
      "20     Tandoori naan     60   True\n",
      "21       Butter naan     60   True\n",
      "22          Chappati     50   True\n",
      "23     Aloo parantha     50   True\n",
      "24   Paneer parantha     60   True\n"
     ]
    }
   ],
   "source": [
    "class MenuItem:\n",
    "    _ID_Counter = 1\n",
    "    def __init__(self, Name, Price, category):\n",
    "        self.Name = Name\n",
    "        self.Price= Price\n",
    "        self.category = category\n",
    "        self.id = MenuItem._ID_Counter\n",
    "        MenuItem._ID_Counter += np.random.randint(0, 10)\n",
    "        \n",
    "    def show_menu(self):\n",
    "        df = pd.read_excel(\"Fooditems.xlsx\")\n",
    "        print(\"Following menu is as \")\n",
    "        print(df.drop(\"ID\", axis=1))\n",
    "    \n",
    "    def update_menu(self, Name= None, Price= None, category= None):\n",
    "        df = pd.read_excel(\"Fooditems.xlsx\")\n",
    "        new_row = {\"ID\": len(df) + 1,\"Name\": self.Name, \"Price\": self.Price, \"category\": self.category}\n",
    "        df.loc[len(df)] = new_row\n",
    "        \n",
    "    def remove_menu_item(self, Name= None):\n",
    "        df = pd.read_excel(\"Fooditems.xlsx\")\n",
    "        if self.Name is not None:\n",
    "            condition = df['Name'] == self.Name\n",
    "            df = df.drop(df[condition].index)\n",
    "        else:\n",
    "            print(\"Enter correct name of food item\")\n",
    "            \n",
    "\n",
    "obj = MenuItem(\"Burger\", 50, True )\n",
    "obj.show_menu()"
   ]
  },
  {
   "cell_type": "code",
   "execution_count": 38,
   "id": "1ec393d4-1012-40f2-bb6f-c20e6c16a683",
   "metadata": {},
   "outputs": [
    {
     "name": "stderr",
     "output_type": "stream",
     "text": [
      "/tmp/ipykernel_2078/3835928726.py:18: FutureWarning: Behavior when concatenating bool-dtype and numeric-dtype arrays is deprecated; in a future version these will cast to object dtype (instead of coercing bools to numeric values). To retain the old behavior, explicitly cast bool-dtype arrays to numeric dtype.\n",
      "  df.loc[len(df)] = new_row\n"
     ]
    }
   ],
   "source": [
    "obj.update_menu(\"Cheese Naan\", 100, True)"
   ]
  },
  {
   "cell_type": "code",
   "execution_count": 40,
   "id": "3b77490c-3ae7-40eb-88f3-50cf2f560ee3",
   "metadata": {},
   "outputs": [
    {
     "name": "stdout",
     "output_type": "stream",
     "text": [
      "Following menu is as \n",
      "                Name  Price    Veg\n",
      "0             Burger     50   True\n",
      "1      Cheese Burger     80   True\n",
      "2     Chicken Burger    110  False\n",
      "3       Simple Pizza    100   True\n",
      "4       Cheese pizza    200   True\n",
      "5      Chicken Pizza    250  False\n",
      "6        Masala Dosa     70   True\n",
      "7        Paneer dosa    120   True\n",
      "8         Plain Dosa     50   True\n",
      "9       Kadai Paneer    300   True\n",
      "10       Dal makhani    250   True\n",
      "11  Paneer do pyaaza    300   True\n",
      "12       Gulab jamun     50   True\n",
      "13             Lassi     40   True\n",
      "14        Cold drink     40   True\n",
      "15       Mango shake     50   True\n",
      "16     Vanilla shake     50   True\n",
      "17   Chocolate shake     50   True\n",
      "18        Oreo shake    100   True\n",
      "19         Ice cream    120   True\n",
      "20     Tandoori naan     60   True\n",
      "21       Butter naan     60   True\n",
      "22          Chappati     50   True\n",
      "23     Aloo parantha     50   True\n",
      "24   Paneer parantha     60   True\n"
     ]
    }
   ],
   "source": [
    "obj.remove_menu_item(\"Burger\")\n"
   ]
  },
  {
   "cell_type": "code",
   "execution_count": null,
   "id": "a1d0b323-2614-4836-bfdf-7a6acdf0642d",
   "metadata": {},
   "outputs": [],
   "source": []
  }
 ],
 "metadata": {
  "kernelspec": {
   "display_name": "Python 3 (ipykernel)",
   "language": "python",
   "name": "python3"
  },
  "language_info": {
   "codemirror_mode": {
    "name": "ipython",
    "version": 3
   },
   "file_extension": ".py",
   "mimetype": "text/x-python",
   "name": "python",
   "nbconvert_exporter": "python",
   "pygments_lexer": "ipython3",
   "version": "3.10.8"
  }
 },
 "nbformat": 4,
 "nbformat_minor": 5
}
