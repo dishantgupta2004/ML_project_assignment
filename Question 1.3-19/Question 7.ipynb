{
 "cells": [
  {
   "cell_type": "markdown",
   "id": "07f56767-8490-44c1-82a3-d31d42ed4a6a",
   "metadata": {},
   "source": [
    "### Hotel management system\n"
   ]
  },
  {
   "cell_type": "code",
   "execution_count": 1,
   "id": "cf2389e0-906a-4a27-9094-441f0825bda2",
   "metadata": {},
   "outputs": [],
   "source": [
    "import pandas as pd\n",
    "import numpy as np\n",
    "import random\n",
    "import time\n",
    "import getpass\n",
    "from datetime import datetime"
   ]
  },
  {
   "cell_type": "code",
   "execution_count": 18,
   "id": "f0eb82e0-bfa4-4e16-8fc0-d981a87d0193",
   "metadata": {},
   "outputs": [],
   "source": [
    "class Room:\n",
    "    df = pd.read_excel(\"data/HotelRooms2.xlsx\")\n",
    "    \n",
    "    def __init__(self, Category):\n",
    "        self.Category = Category\n",
    "        self.Availability = False\n",
    "        \n",
    "        \n",
    "    def show_Description(self):\n",
    "        df_info = Room.df[['Category', 'Description', 'Price']].value_counts()\n",
    "        print(df_info)\n",
    "        \n",
    "\n",
    "class Booking(Room):\n",
    "    room_booked= []\n",
    "    \n",
    "    \n",
    "    def get_date(prompt):\n",
    "        while True:\n",
    "            date_str = input(prompt)\n",
    "            try:\n",
    "                date = datetime.strptime(date_str, '%Y-%m-%d')\n",
    "                return date\n",
    "            except ValueError:\n",
    "                print(\"Incorrect format. Please enter the date in YYYY-MM-DD format.\")\n",
    "\n",
    "            \n",
    "    def __init__(self, user_id, Category):\n",
    "        self.Category = Category\n",
    "        self.user_id = user_id\n",
    "        \n",
    "    def UserDashboard(self):\n",
    "        print(\"1. Login\")\n",
    "        print(\"2. Register\")\n",
    "        print(\"-\"*50)\n",
    "        user_inp = input(\"Choose above option (1-2):\")\n",
    "        if user_inp == \"1\":\n",
    "            inp = input(\"Enter your user_id: \")\n",
    "            if inp == self.user_id:\n",
    "                print(\"You have successfully logged in\")\n",
    "                Booking.get_room_portal(self)\n",
    "            else:\n",
    "                print(\"Email id is incorrect, try again\")\n",
    "        elif user_inp == \"2\":\n",
    "            emailid = input(\"Enter your email id: \")\n",
    "            self.__password = getpass.getpass(\"Enter your password: \")\n",
    "            self.user_id = emailid\n",
    "            print(\"You have successfully registered\")\n",
    "            time.sleep(1)\n",
    "            Booking.get_room_portal(self)\n",
    "            \n",
    "    def get_room_portal(self):\n",
    "        \n",
    "        inp = input(\"Enter your registered email id: \")\n",
    "        passw = getpass.getpass(\"Enter your password: \")\n",
    "        \n",
    "        if inp == self.user_id and passw == self.__password :\n",
    "            print(\"Successfully login in\")\n",
    "        else:\n",
    "            print(\"Either user id/password incorrect\")\n",
    "            \n",
    "        print(\"-\"*50)\n",
    "        print(Room.df.drop(\"Room_id\", axis= 1))\n",
    "        print(\"Choose from above: \")\n",
    "        self.__start_date = Booking.get_date(\"Enter the start date of booking(YYYY-MM-DD): \")\n",
    "        self.__end_date = Booking.get_date(\"Enter the end date of booking(YYYY-MM-DD): \")\n",
    "        date_difference = self.__end_date - self.__start_date\n",
    "        date_difference = int(date_difference.days)\n",
    "        self.__Room_no = int(input(\"Enter your room number: \"))\n",
    "        self.__Category = input(\"Enter category in which you want to lie:\")\n",
    "        self.__amount = date_difference * int(Room.df[Room.df['Room_no'] == self.__Room_no].Price.values)\n",
    "        print(\"Amount to be paid is \", self.__amount)\n",
    "        self.__sharing = int(input(\"Enter the sharing room number: \"))\n",
    "\n",
    "        self.__bank_account_number = input(\"Enter your bank account number: \")\n",
    "        \n",
    "        \n",
    "        \n",
    "        \n",
    "        Booking.room_booked.append(Room.df[Room.df['Room_no'] == self.__Room_no])\n",
    "        self.button = input(\"Click 0 to submit and view your room: \")\n",
    "        if self.button == \"0\":\n",
    "            print(\"Your payment has been successfully done\")\n",
    "            print(\"-\"*50)\n",
    "            print(\"Your room has been booked\")\n",
    "            print(Booking.room_booked)\n",
    "        else:\n",
    "            print(\"Enter correct keyword: \")\n",
    "            \n",
    "            \n",
    "    def check_details(self):\n",
    "        print(\"*\"*50)\n",
    "        print(\"Your booked room details are here:\")\n",
    "        print(Booking.room_booked)\n",
    "        time.sleep(2)\n",
    "        print(\"1. Cancel\")\n",
    "        print(\"2. submit\")\n",
    "        print(\"For cancellation of booked room within 2 hour, press 1\")\n",
    "        inp = input(\"Enter above option (1-2): \")\n",
    "        if inp == \"1\":\n",
    "            try:\n",
    "                Booking.room_booked.pop()\n",
    "                print(\"Your booking has been cancelled\")\n",
    "            except Exception as e:\n",
    "                print(\"No room is booked\", e)\n",
    "        else:\n",
    "            print(\"Thanks for booking\")\n",
    "            time.sleep(1)\n",
    "            "
   ]
  },
  {
   "cell_type": "code",
   "execution_count": 14,
   "id": "b962bae4-57a4-423e-a9bb-99fec519f6e7",
   "metadata": {},
   "outputs": [
    {
     "name": "stdout",
     "output_type": "stream",
     "text": [
      "Category     Description                             Price\n",
      "Normal       Without AC                              1000     5\n",
      "Super        AC room                                 1500     5\n",
      "Delux        Acroom+balcony+comfortablezone          2500     3\n",
      "Super-Delux  Acroom+balcony+comfortablezone+hotfire  4000     1\n",
      "dtype: int64\n"
     ]
    }
   ],
   "source": [
    "obj = Room(\"Normal\")\n",
    "obj.show_Description()"
   ]
  },
  {
   "cell_type": "code",
   "execution_count": 16,
   "id": "462fa438-e4ef-43b7-abbe-74d577aeb4db",
   "metadata": {},
   "outputs": [
    {
     "name": "stdout",
     "output_type": "stream",
     "text": [
      "**************************************************\n",
      "Your booked room details are here:\n",
      "[]\n",
      "1. Cancel\n",
      "2. submit\n",
      "For cancellation of booked room within 2 hour, press 1\n"
     ]
    },
    {
     "name": "stdin",
     "output_type": "stream",
     "text": [
      "Enter above option (1-2):  1\n"
     ]
    },
    {
     "name": "stdout",
     "output_type": "stream",
     "text": [
      "No room is booked pop from empty list\n"
     ]
    }
   ],
   "source": [
    "obj = Booking(\"dishant@gmail.com\", 'Normal')\n",
    "obj.check_details()"
   ]
  },
  {
   "cell_type": "code",
   "execution_count": 19,
   "id": "11a62a45-0063-47e2-917e-c6c63dfc886e",
   "metadata": {},
   "outputs": [
    {
     "name": "stdout",
     "output_type": "stream",
     "text": [
      "1. Login\n",
      "2. Register\n",
      "--------------------------------------------------\n"
     ]
    },
    {
     "name": "stdin",
     "output_type": "stream",
     "text": [
      "Choose above option (1-2): 2\n",
      "Enter your email id:  dishant@gmail.com\n",
      "Enter your password:  ········\n"
     ]
    },
    {
     "name": "stdout",
     "output_type": "stream",
     "text": [
      "You have successfully registered\n"
     ]
    },
    {
     "name": "stdin",
     "output_type": "stream",
     "text": [
      "Enter your registered email id:  dishant@gmail.com\n",
      "Enter your password:  ········\n"
     ]
    },
    {
     "name": "stdout",
     "output_type": "stream",
     "text": [
      "Successfully login in\n",
      "--------------------------------------------------\n",
      "    Room_no     Category  Sharing                             Description  \\\n",
      "0       101       Normal        2                              Without AC   \n",
      "1       102       Normal        2                              Without AC   \n",
      "2       103       Normal        2                              Without AC   \n",
      "3       104       Normal        2                              Without AC   \n",
      "4       105       Normal        2                              Without AC   \n",
      "5       106        Super        2                                 AC room   \n",
      "6       107        Super        2                                 AC room   \n",
      "7       108        Super        2                                 AC room   \n",
      "8       109        Super        2                                 AC room   \n",
      "9       110        Super        2                                 AC room   \n",
      "10      111        Delux        3          Acroom+balcony+comfortablezone   \n",
      "11      112        Delux        4          Acroom+balcony+comfortablezone   \n",
      "12      113        Delux        4          Acroom+balcony+comfortablezone   \n",
      "13      114  Super-Delux        4  Acroom+balcony+comfortablezone+hotfire   \n",
      "\n",
      "    Availability  Price  \n",
      "0              1   1000  \n",
      "1              1   1000  \n",
      "2              1   1000  \n",
      "3              1   1000  \n",
      "4              1   1000  \n",
      "5              1   1500  \n",
      "6              1   1500  \n",
      "7              1   1500  \n",
      "8              1   1500  \n",
      "9              1   1500  \n",
      "10             1   2500  \n",
      "11             1   2500  \n",
      "12             1   2500  \n",
      "13             1   4000  \n",
      "Choose from above: \n"
     ]
    },
    {
     "name": "stdin",
     "output_type": "stream",
     "text": [
      "Enter the start date of booking(YYYY-MM-DD):  2024-07-14\n",
      "Enter the end date of booking(YYYY-MM-DD):  2024-07-16\n",
      "Enter your room number:  101\n",
      "Enter category in which you want to lie: Normal\n"
     ]
    },
    {
     "name": "stdout",
     "output_type": "stream",
     "text": [
      "Amount to be paid is  2000\n"
     ]
    },
    {
     "name": "stdin",
     "output_type": "stream",
     "text": [
      "Enter the sharing room number:  2\n",
      "Enter your bank account number:  123456789\n",
      "Click 0 to submit and view your room:  0\n"
     ]
    },
    {
     "name": "stdout",
     "output_type": "stream",
     "text": [
      "Your payment has been successfully done\n",
      "--------------------------------------------------\n",
      "Your room has been booked\n",
      "[  Room_id  Room_no Category  Sharing Description  Availability  Price\n",
      "0    10N1      101   Normal        2  Without AC             1   1000]\n"
     ]
    }
   ],
   "source": [
    "obj.UserDashboard()"
   ]
  },
  {
   "cell_type": "code",
   "execution_count": 20,
   "id": "8f28e6bf-5bb6-4bee-9342-b367b065add9",
   "metadata": {},
   "outputs": [
    {
     "name": "stdout",
     "output_type": "stream",
     "text": [
      "**************************************************\n",
      "Your booked room details are here:\n",
      "[  Room_id  Room_no Category  Sharing Description  Availability  Price\n",
      "0    10N1      101   Normal        2  Without AC             1   1000]\n",
      "1. Cancel\n",
      "2. submit\n",
      "For cancellation of booked room within 2 hour, press 1\n"
     ]
    },
    {
     "name": "stdin",
     "output_type": "stream",
     "text": [
      "Enter above option (1-2):  2\n"
     ]
    },
    {
     "name": "stdout",
     "output_type": "stream",
     "text": [
      "Thanks for booking\n"
     ]
    }
   ],
   "source": [
    "obj.check_details()\n"
   ]
  },
  {
   "cell_type": "code",
   "execution_count": null,
   "id": "0e3de447-3df8-47bc-9330-a313abf44182",
   "metadata": {},
   "outputs": [],
   "source": []
  }
 ],
 "metadata": {
  "kernelspec": {
   "display_name": "Python 3 (ipykernel)",
   "language": "python",
   "name": "python3"
  },
  "language_info": {
   "codemirror_mode": {
    "name": "ipython",
    "version": 3
   },
   "file_extension": ".py",
   "mimetype": "text/x-python",
   "name": "python",
   "nbconvert_exporter": "python",
   "pygments_lexer": "ipython3",
   "version": "3.10.8"
  }
 },
 "nbformat": 4,
 "nbformat_minor": 5
}
