{
 "cells": [
  {
   "cell_type": "markdown",
   "id": "3fbb7988-57d4-4e9b-abbb-59256d848120",
   "metadata": {},
   "source": [
    "### Question 1.3"
   ]
  },
  {
   "cell_type": "code",
   "execution_count": 7,
   "id": "ceb40faa-edae-4259-8de1-cbc28d8dcd08",
   "metadata": {},
   "outputs": [
    {
     "name": "stdout",
     "output_type": "stream",
     "text": [
      "New list is  ['freedom_fighter', 'Mohan', 'dash', 'karam', 'chandra', 'gandhi', 'Bapu']\n"
     ]
    }
   ],
   "source": [
    "name = [\"Mohan\", \"dash\", \"karam\", \"chandra\", \"gandhi\", \"Bapu\"]\n",
    "\n",
    "### Add an element freedom_fighter\n",
    "name.insert(0, \"freedom_fighter\")\n",
    "print(\"New list is \", name)"
   ]
  },
  {
   "cell_type": "code",
   "execution_count": 9,
   "id": "ebfbb801-6b1a-451a-982f-3ad18b6272d9",
   "metadata": {},
   "outputs": [
    {
     "name": "stdout",
     "output_type": "stream",
     "text": [
      "6\n"
     ]
    }
   ],
   "source": [
    "#### b) find the output of the following ,and explain how?\n",
    "\n",
    "name = [\"freedomFighter\" ,\"Bapuji\",\"MOhan\" \"dash\", \"karam\",\"chandra\",\"gandhi\"]\n",
    "length1=len((name[-len(name)+1:-1:2]))\n",
    "length2=len((name[-len(name)+1:-1]))\n",
    "print(length1+length2)"
   ]
  },
  {
   "cell_type": "code",
   "execution_count": 10,
   "id": "dc1d0080-7916-4156-b4e1-46f9f110fee0",
   "metadata": {},
   "outputs": [
    {
     "data": {
      "text/plain": [
       "['Bapuji', 'karam']"
      ]
     },
     "execution_count": 10,
     "metadata": {},
     "output_type": "execute_result"
    }
   ],
   "source": [
    "name[-len(name)+1:-1:2]  ## it means name[-6:-1:2]\n",
    "## Since iteration from front starts from zero and from end -1 in above starting element is -6\n",
    "## name[-6] == bapuji and with 2 unit step we reach karam\n",
    "## thus len(name[-6:-1:2] == 2\n",
    "\n",
    "## Similar interpretation with length2"
   ]
  },
  {
   "cell_type": "code",
   "execution_count": 13,
   "id": "96a85b87-e404-4449-beb4-ddcb353f80ed",
   "metadata": {},
   "outputs": [
    {
     "name": "stdout",
     "output_type": "stream",
     "text": [
      "['freedomFighter', 'Bapuji', 'MOhandash', 'karam', 'chandra', 'gandhi', 'Netaji', 'Bose', 'Netaji', 'Bose']\n"
     ]
    }
   ],
   "source": [
    "### c) add two more elements in the name [\"NetaJi\",\"Bose\"] at the end of the list.\n",
    "\n",
    "name.append(\"Netaji\")\n",
    "name.append(\"Bose\")\n",
    "\n",
    "print(name)"
   ]
  },
  {
   "cell_type": "code",
   "execution_count": 14,
   "id": "73b17945-66d4-4961-a537-70f86ffa87bb",
   "metadata": {},
   "outputs": [
    {
     "name": "stdout",
     "output_type": "stream",
     "text": [
      "['Mohan', 'dash', 'karam', 'chandra', 'gandi', 'Bapuji']\n"
     ]
    }
   ],
   "source": [
    "### d) what will be the value of temp:\n",
    "name = [\"Bapuji\", \"dash\", \"karam\", \"chandra\",\"gandi\",\"Mohan\"]\n",
    "temp=name[-1]\n",
    "name[-1]=name[0]\n",
    "name[0]=temp\n",
    "print(name)\n",
    "\n",
    "## temp = name[-1] == \"Mohan\""
   ]
  },
  {
   "cell_type": "code",
   "execution_count": 15,
   "id": "a10db76f-f5e0-4907-b7ed-c1eb78dfebad",
   "metadata": {},
   "outputs": [
    {
     "name": "stdout",
     "output_type": "stream",
     "text": [
      "2\n",
      "4\n",
      "7\n"
     ]
    }
   ],
   "source": [
    "### Question 1.4.Find the output of the following.\n",
    "animal = ['Human','cat','mat','cat','rat','Human', 'Lion']\n",
    "print(animal.count('Human'))\n",
    "print(animal.index('rat'))\n",
    "print(len(animal))\n",
    "\n",
    "## animal.count(\"Human\") counts element and give number == 2\n",
    "## animal.index('rat') == 4"
   ]
  },
  {
   "cell_type": "markdown",
   "id": "d321eff2-75d8-48ad-8443-46f84594e11b",
   "metadata": {},
   "source": [
    "### Question 1.5"
   ]
  },
  {
   "cell_type": "code",
   "execution_count": 18,
   "id": "eab03f8d-20f1-4d19-ac5f-7996dfc3cd07",
   "metadata": {},
   "outputs": [],
   "source": [
    "tuple1=(10,20,\"Apple\",3.4,'a',[\"master\",\"ji\"],(\"sita\",\"geeta\",22),[{\"roll_no\":1},{\"name\":\"Navneet\"}])"
   ]
  },
  {
   "cell_type": "code",
   "execution_count": 19,
   "id": "3e164887-a0be-445a-ba7a-2193312eddbe",
   "metadata": {},
   "outputs": [
    {
     "data": {
      "text/plain": [
       "(10,\n",
       " 20,\n",
       " 'Apple',\n",
       " 3.4,\n",
       " 'a',\n",
       " ['master', 'ji'],\n",
       " ('sita', 'geeta', 22),\n",
       " [{'roll_no': 1}, {'name': 'Navneet'}])"
      ]
     },
     "execution_count": 19,
     "metadata": {},
     "output_type": "execute_result"
    }
   ],
   "source": [
    "tuple1"
   ]
  },
  {
   "cell_type": "code",
   "execution_count": 29,
   "id": "01b6efaf-e368-4b90-bbbe-1ab95006eab1",
   "metadata": {},
   "outputs": [
    {
     "name": "stdout",
     "output_type": "stream",
     "text": [
      "8\n",
      "Navneet\n",
      "1\n",
      "ji\n",
      "22\n"
     ]
    }
   ],
   "source": [
    "print(len(tuple1))\n",
    "print(tuple1[-1][-1][\"name\"])  ## first index represents last element\n",
    "## 2nd index goes further deeper last element of dictionary\n",
    "## 3rd index gets values corr to keys\n",
    "\n",
    "print(tuple1[-1][0][\"roll_no\"])\n",
    "\n",
    "print(tuple1[-3][1])\n",
    "\n",
    "print(tuple1[-2][2])"
   ]
  },
  {
   "cell_type": "markdown",
   "id": "e6096bcb-9895-457b-9ed0-9216534930af",
   "metadata": {},
   "source": [
    "### Question 1.6"
   ]
  },
  {
   "cell_type": "code",
   "execution_count": 31,
   "id": "fad0292f-8967-41a0-8dbd-57a7d40d15c8",
   "metadata": {},
   "outputs": [
    {
     "name": "stdin",
     "output_type": "stream",
     "text": [
      "Enter the signal color (RED, YELLOW, GREEN):  RED\n"
     ]
    },
    {
     "name": "stdout",
     "output_type": "stream",
     "text": [
      "Stop\n"
     ]
    }
   ],
   "source": [
    "signal = input(\"Enter the signal color (RED, YELLOW, GREEN): \").strip().upper()\n",
    "\n",
    "if signal == \"RED\": \n",
    "    print(\"Stop\")\n",
    "elif signal == \"YELLOW\": \n",
    "    print(\"Stay\") \n",
    "elif signal == \"GREEN\": \n",
    "    print(\"Go\")\n",
    "else: \n",
    "    print(\"Invalid signal color\")\n"
   ]
  },
  {
   "cell_type": "markdown",
   "id": "06f76b5b-8d15-4959-b332-c0962d9df237",
   "metadata": {},
   "source": [
    "### Question 1.7"
   ]
  },
  {
   "cell_type": "code",
   "execution_count": 33,
   "id": "f0a63907-5384-465e-9688-ee22ddaf6deb",
   "metadata": {},
   "outputs": [
    {
     "name": "stdin",
     "output_type": "stream",
     "text": [
      "Enter first number:  23\n",
      "Enter second number:  34\n",
      "Enter operation (+, -, *, /):  +\n"
     ]
    },
    {
     "name": "stdout",
     "output_type": "stream",
     "text": [
      "Result: 57.0\n"
     ]
    }
   ],
   "source": [
    "def calculator():\n",
    "    num1 = float(input(\"Enter first number: \"))\n",
    "    num2 = float(input(\"Enter second number: \"))\n",
    "    operation = input(\"Enter operation (+, -, *, /): \").strip()\n",
    "\n",
    "    if operation == '+':\n",
    "        print(f\"Result: {num1 + num2}\")\n",
    "    elif operation == '-':\n",
    "        print(f\"Result: {num1 - num2}\")\n",
    "    elif operation == '*':\n",
    "        print(f\"Result: {num1 * num2}\")\n",
    "    elif operation == '/':\n",
    "        if num2 != 0:\n",
    "            print(f\"Result: {num1 / num2}\")\n",
    "        else:\n",
    "            print(\"Error: Division by zero\")\n",
    "    else:\n",
    "        print(\"Invalid operation\")\n",
    "\n",
    "calculator()\n"
   ]
  },
  {
   "cell_type": "markdown",
   "id": "b39eb99c-e989-42b5-aad9-080217045123",
   "metadata": {},
   "source": [
    "### Question 1.8"
   ]
  },
  {
   "cell_type": "code",
   "execution_count": 34,
   "id": "c2971da4-ece6-4a6a-aaec-81d4b2a9e4e1",
   "metadata": {},
   "outputs": [
    {
     "name": "stdout",
     "output_type": "stream",
     "text": [
      "Largest number is: 30\n"
     ]
    }
   ],
   "source": [
    "a = 10\n",
    "b = 20\n",
    "c = 30\n",
    "\n",
    "largest = a if (a > b and a > c) else (b if b > c else c)\n",
    "print(f\"Largest number is: {largest}\")\n"
   ]
  },
  {
   "cell_type": "markdown",
   "id": "88f2bead-6a9f-4321-8da0-667001e36d96",
   "metadata": {},
   "source": [
    "### Question 1.9"
   ]
  },
  {
   "cell_type": "code",
   "execution_count": 36,
   "id": "0706522f-e5d4-4cf3-8a63-42a70bfdb08c",
   "metadata": {},
   "outputs": [
    {
     "name": "stdin",
     "output_type": "stream",
     "text": [
      "Enter a whole number 24\n"
     ]
    },
    {
     "name": "stdout",
     "output_type": "stream",
     "text": [
      "Factors of 24 are: [1, 2, 3, 4, 6, 8, 12, 24]\n"
     ]
    }
   ],
   "source": [
    "num = int(input(\"Enter a whole number\"))\n",
    "i=1\n",
    "factors= []\n",
    "\n",
    "while i <= num:\n",
    "    if num % i == 0:\n",
    "        factors.append(i)\n",
    "    i += 1\n",
    "    \n",
    "print(f\"Factors of {num} are: {factors}\")"
   ]
  },
  {
   "cell_type": "markdown",
   "id": "bb84ec2f-89fd-48b8-9a1b-1388f271c1df",
   "metadata": {},
   "source": [
    "### Question 1.10"
   ]
  },
  {
   "cell_type": "code",
   "execution_count": 37,
   "id": "e22e5c72-5021-425e-a15e-57bf5efee6a2",
   "metadata": {},
   "outputs": [
    {
     "name": "stdin",
     "output_type": "stream",
     "text": [
      "Enter a number:  3\n",
      "Enter a number:  4\n",
      "Enter a number:  5\n",
      "Enter a number:  6\n",
      "Enter a number:  -5\n"
     ]
    },
    {
     "name": "stdout",
     "output_type": "stream",
     "text": [
      "Sum of positive numbers: 18\n"
     ]
    }
   ],
   "source": [
    "total = 0\n",
    "\n",
    "while True:\n",
    "    num = int(input(\"Enter a number: \"))\n",
    "    if num < 0:\n",
    "        break\n",
    "    total += num\n",
    "\n",
    "print(f\"Sum of positive numbers: {total}\")\n"
   ]
  },
  {
   "cell_type": "markdown",
   "id": "9250a9bd-fd7a-40eb-a5d3-63445b76a2f0",
   "metadata": {},
   "source": [
    "### Question 1.11"
   ]
  },
  {
   "cell_type": "code",
   "execution_count": 38,
   "id": "986129b2-d5fb-456f-96b5-3a62114a6bbb",
   "metadata": {},
   "outputs": [
    {
     "name": "stdout",
     "output_type": "stream",
     "text": [
      "2\n",
      "3\n",
      "5\n",
      "7\n",
      "11\n",
      "13\n",
      "17\n",
      "19\n",
      "23\n",
      "29\n",
      "31\n",
      "37\n",
      "41\n",
      "43\n",
      "47\n",
      "53\n",
      "59\n",
      "61\n",
      "67\n",
      "71\n",
      "73\n",
      "79\n",
      "83\n",
      "89\n",
      "97\n"
     ]
    }
   ],
   "source": [
    "for num in range(2, 101):\n",
    "    is_prime = True\n",
    "    for i in range(2, int(num ** 0.5) + 1):\n",
    "        if num % i == 0:\n",
    "            is_prime = False\n",
    "            break\n",
    "    if is_prime:\n",
    "        print(num)\n"
   ]
  },
  {
   "cell_type": "markdown",
   "id": "c17c36e9-a641-41cf-85a3-75df7596573e",
   "metadata": {},
   "source": [
    "### Question 1.12"
   ]
  },
  {
   "cell_type": "code",
   "execution_count": 43,
   "id": "874e0562-05e4-470b-91de-f67f224a04fc",
   "metadata": {},
   "outputs": [
    {
     "name": "stdin",
     "output_type": "stream",
     "text": [
      "Enter marks for Math:  98\n",
      "Enter marks for Science:  97\n",
      "Enter marks for English:  90\n",
      "Enter marks for History:  95\n",
      "Enter marks for Geography:  95\n"
     ]
    },
    {
     "name": "stdout",
     "output_type": "stream",
     "text": [
      "Marks: [98, 97, 90, 95, 95]\n",
      "Very good, A grade\n"
     ]
    }
   ],
   "source": [
    "### import math\n",
    "subjects = [\"Math\", \"Science\", \"English\", \"History\", \"Geography\"]\n",
    "marks = []\n",
    "\n",
    "for subject in subjects:\n",
    "    mark = int(input(f\"Enter marks for {subject}: \"))\n",
    "    marks.append(mark)\n",
    "\n",
    "print(\"Marks:\", marks)\n",
    "\n",
    "percentage = (sum(marks) / len(marks)) * 100\n",
    "\n",
    "if percentage <= 30:\n",
    "    print(\"Fail, Reappear\")\n",
    "elif percentage > 30 and percentage <= 50:\n",
    "    print(\"Pass, D grade\")\n",
    "elif percentage >= 50 and percentage < 75:\n",
    "    print(\"pass, C grade\")\n",
    "elif percentage >= 75 and percentage < 85:\n",
    "    print(\"Good, B grade\")\n",
    "elif percentage > 85:\n",
    "    print(\"Very good, A grade\")"
   ]
  },
  {
   "cell_type": "markdown",
   "id": "c6a656b0-79c8-4cb2-9749-e4bdd11bcdac",
   "metadata": {},
   "source": [
    "### Question 1.13"
   ]
  },
  {
   "cell_type": "code",
   "execution_count": 44,
   "id": "6da1a9a7-1894-4523-9cd5-1b2a7ffaeb8d",
   "metadata": {},
   "outputs": [
    {
     "name": "stdin",
     "output_type": "stream",
     "text": [
      "Enter the wavelength in visible region (400-800): 456\n"
     ]
    },
    {
     "name": "stdout",
     "output_type": "stream",
     "text": [
      "INDIGO\n"
     ]
    }
   ],
   "source": [
    "wavelength = float(input(\"Enter the wavelength in visible region (400-800):\"))\n",
    "\n",
    "if wavelength >= 400 and wavelength <= 440:\n",
    "    print(\"VIOLET\")\n",
    "elif wavelength > 440 and wavelength <= 460:\n",
    "    print(\"INDIGO\")\n",
    "elif wavelength > 460 and wavelength <= 500:\n",
    "    print(\"BLUE\")\n",
    "elif wavelength >500 and wavelength <= 570:\n",
    "    print(\"GREEN\")\n",
    "elif wavelength > 570 and wavelength <=590:\n",
    "    print(\"YELLOW\")\n",
    "elif wavelength > 590 and wavelength <= 620:\n",
    "    print(\"ORANGE\")\n",
    "elif wavelength > 620 and wavelength <= 720:\n",
    "    print(\"RED\")\n",
    "else:\n",
    "    print(\"Beyond range may belong to other region\")"
   ]
  },
  {
   "cell_type": "markdown",
   "id": "6e869e06-b086-4522-a541-83bac5f48ed9",
   "metadata": {},
   "source": [
    "### Question 1.14"
   ]
  },
  {
   "cell_type": "code",
   "execution_count": 48,
   "id": "69ae45d5-6241-49c3-b846-b01b6e884ef0",
   "metadata": {},
   "outputs": [],
   "source": [
    "mass_earth = 5.972e24 # Mass of Earth in kilograms\n",
    "mass_moon = 7.34767309e22 # Mass of Moon in kilograms\n",
    "mass_sun = 0.989e30 # Mass of Sun in kilograms\n",
    "distan0e_earth_sun = 0.496e1 # Average distan0e between Earth and Sun in meters\n",
    "distan0e_moon_earth = 3.844e8 # Average distan0e between Moon and Earth in meters"
   ]
  },
  {
   "cell_type": "code",
   "execution_count": 49,
   "id": "3d3f23ac-e3f7-4d64-8d50-0e7605a08280",
   "metadata": {},
   "outputs": [],
   "source": [
    "G = 6.67430e-11  ## Gravitional constant in m^3 kg^-1 s^-2"
   ]
  },
  {
   "cell_type": "code",
   "execution_count": 50,
   "id": "e45767e3-3433-4a5a-8e68-2dda106bfe4e",
   "metadata": {},
   "outputs": [],
   "source": [
    "g_earth_sun_force = G*(mass_sun)*(mass_earth) / ((distane_earth_sun)**2)"
   ]
  },
  {
   "cell_type": "code",
   "execution_count": 51,
   "id": "8ac56ab8-46c5-4a3f-ba8d-60b333a7297f",
   "metadata": {},
   "outputs": [],
   "source": [
    "g_moon_earth_force = G*(mass_moon)*(mass_earth) / ((distan0e_moon_earth)**2)"
   ]
  },
  {
   "cell_type": "code",
   "execution_count": 52,
   "id": "abb65d05-85c3-4b21-bb85-4868d31249ed",
   "metadata": {},
   "outputs": [
    {
     "name": "stdout",
     "output_type": "stream",
     "text": [
      "Gravitational force between sun and earth is  1.602353972278226e+43\n",
      "Gravitational force between moon and earth is  1.982022545652681e+20\n"
     ]
    }
   ],
   "source": [
    "print(\"Gravitational force between sun and earth is \", g_earth_sun_force)\n",
    "print(\"Gravitational force between moon and earth is \", g_moon_earth_force)\n",
    "\n",
    "## sun-earth > moon-earth"
   ]
  },
  {
   "cell_type": "code",
   "execution_count": 63,
   "id": "c1f413df-ee5d-4281-94c2-3ccd434f3918",
   "metadata": {},
   "outputs": [
    {
     "name": "stderr",
     "output_type": "stream",
     "text": [
      "/tmp/ipykernel_138/166772880.py:9: RuntimeWarning: divide by zero encountered in divide\n",
      "  g_earth_sun_force = G*(mass_sun)*(mass_earth) / (res**2)\n",
      "/tmp/ipykernel_138/166772880.py:10: RuntimeWarning: divide by zero encountered in divide\n",
      "  g_moon_earth_force = G*(mass_moon)*(mass_earth) / (rem**2)\n"
     ]
    },
    {
     "data": {
      "image/png": "[encoded data removed]",
      "text/plain": [
       "<Figure size 1000x600 with 1 Axes>"
      ]
     },
     "metadata": {},
     "output_type": "display_data"
    }
   ],
   "source": [
    "import matplotlib.pyplot as plt\n",
    "import numpy as np\n",
    "import seaborn as sns\n",
    "\n",
    "res= np.linspace(0, int(distan0e_earth_sun), 50)\n",
    "rem= np.linspace(0, int(distan0e_moon_earth), 50)\n",
    "\n",
    "\n",
    "g_earth_sun_force = G*(mass_sun)*(mass_earth) / (res**2)\n",
    "g_moon_earth_force = G*(mass_moon)*(mass_earth) / (rem**2)\n",
    "\n",
    "plt.figure(figsize= (10, 6))\n",
    "plt.plot(g_earth_sun_force)\n",
    "plt.show()"
   ]
  },
  {
   "cell_type": "code",
   "execution_count": 62,
   "id": "f821d76a-9876-472d-abcc-c7805e040ac0",
   "metadata": {},
   "outputs": [
    {
     "data": {
      "image/png": "[encoded data removed]",
      "text/plain": [
       "<Figure size 1000x600 with 1 Axes>"
      ]
     },
     "metadata": {},
     "output_type": "display_data"
    }
   ],
   "source": [
    "plt.figure(figsize=(10, 6))\n",
    "plt.plot(g_moon_earth_force)\n",
    "plt.show()"
   ]
  },
  {
   "cell_type": "code",
   "execution_count": null,
   "id": "de1adf95-ad1c-4f17-8527-af2ef2a5e21e",
   "metadata": {},
   "outputs": [],
   "source": []
  }
 ],
 "metadata": {
  "kernelspec": {
   "display_name": "Python 3 (ipykernel)",
   "language": "python",
   "name": "python3"
  },
  "language_info": {
   "codemirror_mode": {
    "name": "ipython",
    "version": 3
   },
   "file_extension": ".py",
   "mimetype": "text/x-python",
   "name": "python",
   "nbconvert_exporter": "python",
   "pygments_lexer": "ipython3",
   "version": "3.10.8"
  }
 },
 "nbformat": 4,
 "nbformat_minor": 5
}
