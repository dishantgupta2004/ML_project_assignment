{
 "cells": [
  {
   "cell_type": "markdown",
   "id": "3569e5ab-551d-4e17-9a63-2226f761a088",
   "metadata": {},
   "source": [
    "### Fitness club management system"
   ]
  },
  {
   "cell_type": "code",
   "execution_count": 1,
   "id": "62c61151-bb52-4c8b-9497-2c3dd4681c6f",
   "metadata": {},
   "outputs": [
    {
     "name": "stdout",
     "output_type": "stream",
     "text": [
      "Member John Doe with ID 1 has been registered.\n",
      "Member Jane Doe with ID 2 has been registered.\n",
      "Individual member John Doe has scheduled a personal training session.\n",
      "Family member Mike Doe added to Jane Doe's membership.\n",
      "Family member Anna Doe added to Jane Doe's membership.\n",
      "Membership for member John Doe has been renewed until 2026-07-14.\n",
      "Membership for member Jane Doe has been cancelled.\n",
      "Active members:\n",
      "Members with Gold membership:\n",
      "ID: 1, Name: John Doe\n",
      "Members with Family membership:\n",
      "ID: 2, Name: Jane Doe\n"
     ]
    }
   ],
   "source": [
    "from datetime import datetime, timedelta\n",
    "from collections import defaultdict\n",
    "\n",
    "class Member:\n",
    "    _id_counter = 1\n",
    "    \n",
    "    def __init__(self, name, age, membership_type):\n",
    "        self.name = name\n",
    "        self.age = age\n",
    "        self.membership_type = membership_type\n",
    "        self._membership_status = 'Active'\n",
    "        self._id = Member._id_counter\n",
    "        self.membership_start_date = datetime.now()\n",
    "        self.membership_end_date = self.membership_start_date + timedelta(days=365)\n",
    "        Member._id_counter += 1\n",
    "\n",
    "    def register_member(self):\n",
    "        print(f\"Member {self.name} with ID {self._id} has been registered.\")\n",
    "    \n",
    "    def renew_membership(self):\n",
    "        self.membership_end_date += timedelta(days=365)\n",
    "        self._membership_status = 'Renewed'\n",
    "        print(f\"Membership for member {self.name} has been renewed until {self.membership_end_date.strftime('%Y-%m-%d')}.\")\n",
    "    \n",
    "    def cancel_membership(self):\n",
    "        self._membership_status = 'Cancelled'\n",
    "        print(f\"Membership for member {self.name} has been cancelled.\")\n",
    "    \n",
    "    def get_membership_status(self):\n",
    "        return self._membership_status\n",
    "    \n",
    "    def get_id(self):\n",
    "        return self._id\n",
    "    \n",
    "    def is_membership_active(self):\n",
    "        return self._membership_status == 'Active' and datetime.now() < self.membership_end_date\n",
    "\n",
    "# Derived class for FamilyMember\n",
    "class FamilyMember(Member):\n",
    "    def __init__(self, name, age, membership_type, family_members=None):\n",
    "        super().__init__(name, age, membership_type)\n",
    "        self.family_members = family_members if family_members else []\n",
    "\n",
    "    def add_family_member(self, family_member):\n",
    "        self.family_members.append(family_member)\n",
    "        print(f\"Family member {family_member} added to {self.name}'s membership.\")\n",
    "    \n",
    "    def remove_family_member(self, family_member):\n",
    "        if family_member in self.family_members:\n",
    "            self.family_members.remove(family_member)\n",
    "            print(f\"Family member {family_member} removed from {self.name}'s membership.\")\n",
    "        else:\n",
    "            print(f\"Family member {family_member} not found in {self.name}'s membership.\")\n",
    "    \n",
    "    def get_family_members(self):\n",
    "        return self.family_members\n",
    "\n",
    "# Derived class for IndividualMember\n",
    "class IndividualMember(Member):\n",
    "    def __init__(self, name, age, membership_type):\n",
    "        super().__init__(name, age, membership_type)\n",
    "    \n",
    "    def schedule_personal_training(self):\n",
    "        print(f\"Individual member {self.name} has scheduled a personal training session.\")\n",
    "\n",
    "class FitnessClub:\n",
    "    def __init__(self):\n",
    "        self.members = {}  # Use a dictionary to map member ID to member objects\n",
    "        self.member_type_map = defaultdict(list)  # Maintain a map of membership type to member IDs\n",
    "    \n",
    "    def add_member(self, member):\n",
    "        self.members[member.get_id()] = member\n",
    "        self.member_type_map[member.membership_type].append(member.get_id())\n",
    "        member.register_member()\n",
    "    \n",
    "    def renew_member(self, member_id):\n",
    "        if member_id in self.members:\n",
    "            member = self.members[member_id]\n",
    "            member.renew_membership()\n",
    "        else:\n",
    "            print(f\"No member found with ID {member_id}.\")\n",
    "    \n",
    "    def cancel_member(self, member_id):\n",
    "        if member_id in self.members:\n",
    "            member = self.members[member_id]\n",
    "            member.cancel_membership()\n",
    "        else:\n",
    "            print(f\"No member found with ID {member_id}.\")\n",
    "    \n",
    "    def list_active_members(self):\n",
    "        print(\"Active members:\")\n",
    "        for member in self.members.values():\n",
    "            if member.is_membership_active():\n",
    "                print(f\"ID: {member.get_id()}, Name: {member.name}, Membership Type: {member.membership_type}\")\n",
    "\n",
    "    def find_members_by_type(self, membership_type):\n",
    "        print(f\"Members with {membership_type} membership:\")\n",
    "        for member_id in self.member_type_map[membership_type]:\n",
    "            member = self.members[member_id]\n",
    "            print(f\"ID: {member.get_id()}, Name: {member.name}\")\n",
    "\n",
    "# Example usage\n",
    "club = FitnessClub()\n",
    "\n",
    "john = IndividualMember(\"John Doe\", 30, \"Gold\")\n",
    "jane = FamilyMember(\"Jane Doe\", 35, \"Family\")\n",
    "\n",
    "club.add_member(john)\n",
    "club.add_member(jane)\n",
    "\n",
    "john.schedule_personal_training()\n",
    "\n",
    "jane.add_family_member(\"Mike Doe\")\n",
    "jane.add_family_member(\"Anna Doe\")\n",
    "\n",
    "club.renew_member(john.get_id())\n",
    "club.cancel_member(jane.get_id())\n",
    "\n",
    "club.list_active_members()\n",
    "club.find_members_by_type(\"Gold\")\n",
    "club.find_members_by_type(\"Family\")\n"
   ]
  },
  {
   "cell_type": "markdown",
   "id": "4a151b08-70e3-4b2f-975c-3bd8f8a73778",
   "metadata": {},
   "source": [
    "### Event management system"
   ]
  },
  {
   "cell_type": "code",
   "execution_count": 2,
   "id": "6f646290-13c3-4843-8795-56bf6fb5c7d1",
   "metadata": {},
   "outputs": [],
   "source": [
    "import pandas as pd\n",
    "import time\n",
    "from datetime import datetime\n",
    "import numpy\n",
    "import random"
   ]
  },
  {
   "cell_type": "code",
   "execution_count": 10,
   "id": "265802c3-0960-44a4-95aa-699cc38462cf",
   "metadata": {},
   "outputs": [],
   "source": [
    "class Event:\n",
    "    def get_date(prompt):\n",
    "        while True:\n",
    "            date_str = input(prompt)\n",
    "            try:\n",
    "                date = datetime.strptime(date_str, '%Y-%m-%d')\n",
    "                return date\n",
    "            except ValueError:\n",
    "                print(\"Incorrect format. Please enter the date in YYYY-MM-DD format.\")\n",
    "\n",
    "    \n",
    "    _id_counter = 1\n",
    "    \n",
    "    def __init__(self, name, date, time, location):\n",
    "        self.__df = pd.DataFrame(columns= [\"Eventid\",'Name', 'date', 'Duration_of_event', 'time', 'Location', 'Description'])\n",
    "        self.__attendeesdf = pd.DataFrame(columns = [\"Event_id\", \"attendees_name\", \"attendes_emailid\", \"attendes_age\", \"attendees_eventid\"])\n",
    "        self.name = name\n",
    "        self.date = date\n",
    "        self.time = time\n",
    "        self.location = location\n",
    "        self._id = Event._id_counter\n",
    "        Event._id_counter += 1\n",
    "        \n",
    "    def create_new_event(self):\n",
    "        self.__Eventid = \"22\"+str(random.randint(101, 201))+\"DCS001\"\n",
    "        self.__name = input(\"Enter the name of event: \")\n",
    "        self.__date = Event.get_date(\"Enter the date of event: (YYYY-MM-DD) \") \n",
    "        self.__time = datetime.strptime(input(\"Enter the time of event in HH:MM format\"), \"%H:%M\").time()\n",
    "        self.__duration = input(\"Enter the duration of event: (in minutes)\")\n",
    "        self.__Location = input(\"Enter the location of event: \")\n",
    "        self.__description = input(\"Enter the description/details of events: \")\n",
    "        \n",
    "        new_row = {\"Eventid\" : self.__Eventid ,\"Name\" : self.__name, \"date\": self.__date, \"Duration_of_event\": self.__duration, \"time\": self.__time, \"Location\": self.__Location, \"Description\": self.__description}\n",
    "        \n",
    "        self.__df.loc[len(self.__df)] = new_row\n",
    "        \n",
    "    def add_attendees(self):\n",
    "        attendes_name = input(\"Enter the attendes name: \")\n",
    "        attendes_emailid = input(\"Enter the attendes email id: \")\n",
    "        attendes_age = input(\"Enter the age of attended: \")\n",
    "        self.__attendees_eventid = \"DCS\"+str(random.randrange(300, 1000, 2))+\"001\"\n",
    "        \n",
    "        new_row = {\"Event_id\": self.__Eventid, \"attendees_name\": attendes_name, \"attendes_emailid\": attendes_emailid, \"attendes_age\": attendes_age, \"attendees_eventid\" : self.__attendees_eventid}\n",
    "        \n",
    "        self.__attendeesdf.loc[len(self.__attendeesdf)] = new_row\n",
    "        \n",
    "        print(f\"Attendees has been registered in event {self.__name} with attendees event id {self.__attendees_eventid}\")\n",
    "        print(\"Thanks for registering yourselves\")\n",
    "        print(\"-\"*50)\n",
    "        \n",
    "    def remove_attendees(self):\n",
    "        attendee_id = input(\"Enter the Attendee ID to remove: \")\n",
    "        if attendee_id in self.__attendeesdf['attendees_eventid'].values:\n",
    "            self.attendeesdf = self.__attendeesdf[self.__attendeesdf['attendees_eventid'] != self.__attendees_eventid]\n",
    "            print(f\"Attendee with ID: {self.__attendees_eventid} has been removed.\")\n",
    "        else:\n",
    "            print(f\"No attendee found with ID: {self.__attendees_eventid}\")\n",
    "            \n",
    "    def get_attendees_list(self):\n",
    "        print(f\"Attendees list is {self.__attendeesdf}\")\n",
    "        print(\"Total number of attendees in a event are: \", len(self.__attendeesdf))\n",
    "            \n",
    "            \n",
    "class PrivateEvent(Event):\n",
    "    def __init__(self):\n",
    "        super().__init__()\n",
    "        self.private_events_df = pd.DataFrame(columns=['EventID', 'HostName'])\n",
    "\n",
    "    def create_private_event(self):\n",
    "        self.create_new_event()\n",
    "        host_name = input(\"Enter the host name: \")\n",
    "        event_id = self.__df.iloc[-1]['Eventid']\n",
    "\n",
    "        new_private_event = {\n",
    "            \"EventID\": event_id,\n",
    "            \"HostName\": host_name\n",
    "        }\n",
    "        self.private_events_df = self.private_events_df.append(new_private_event, ignore_index=True)\n",
    "        print(f\"Private event created with host: {host_name}\")\n",
    "\n",
    "    def add_private_event_attendee(self):\n",
    "        self.add_attendees()\n",
    "\n",
    "        \n",
    "\n",
    "class PublicEvent(Event):\n",
    "    def __init__(self):\n",
    "        super().__init__()\n",
    "        self.public_events_df = pd.DataFrame(columns=['EventID', 'NumberOfTickets'])\n",
    "\n",
    "    def create_public_event(self):\n",
    "        self.create_new_event()\n",
    "        number_of_tickets = int(input(\"Enter the number of tickets available: \"))\n",
    "        event_id = self.__df.iloc[-1]['Eventid']\n",
    "\n",
    "        new_public_event = {\n",
    "            \"EventID\": event_id,\n",
    "            \"NumberOfTickets\": number_of_tickets\n",
    "        }\n",
    "        self.public_events_df = self.public_events_df.append(new_public_event, ignore_index=True)\n",
    "        print(f\"Public event created with {number_of_tickets} tickets available.\")\n",
    "\n",
    "    def add_public_event_attendee(self):\n",
    "        self.add_attendees()\n",
    "\n",
    "\n"
   ]
  },
  {
   "cell_type": "code",
   "execution_count": 11,
   "id": "2799643e-2fb0-44a9-86f3-506bc7f8f575",
   "metadata": {},
   "outputs": [
    {
     "name": "stdin",
     "output_type": "stream",
     "text": [
      "Enter the name of event:  DS\n",
      "Enter the date of event: (YYYY-MM-DD)  2024-07-30\n",
      "Enter the time of event in HH:MM format 05:30\n",
      "Enter the duration of event: (in minutes) 90\n",
      "Enter the location of event:  Audi\n",
      "Enter the description/details of events:  AI\n"
     ]
    }
   ],
   "source": [
    "obj = Event(\"DS\", \"2024-07-17\", \"05:30\", \"Audi\")\n",
    "obj.create_new_event()"
   ]
  },
  {
   "cell_type": "code",
   "execution_count": 12,
   "id": "e92f55dc-4acf-4424-9827-10b3c9f191f6",
   "metadata": {},
   "outputs": [
    {
     "name": "stdin",
     "output_type": "stream",
     "text": [
      "Enter the attendes name:  Ajay\n",
      "Enter the attendes email id:  tgrfdsc\n",
      "Enter the age of attended:  20\n"
     ]
    },
    {
     "name": "stdout",
     "output_type": "stream",
     "text": [
      "Attendees has been registered in event DS with attendees event id DCS512001\n",
      "Thanks for registering yourselves\n",
      "--------------------------------------------------\n"
     ]
    }
   ],
   "source": [
    "obj.add_attendees()"
   ]
  },
  {
   "cell_type": "code",
   "execution_count": 13,
   "id": "24b566f5-cc9a-409b-850a-cbc1b038c02f",
   "metadata": {},
   "outputs": [
    {
     "name": "stdin",
     "output_type": "stream",
     "text": [
      "Enter the attendes name:  Dishhant\n",
      "Enter the attendes email id:  tyrfteewsd\n",
      "Enter the age of attended:  20\n"
     ]
    },
    {
     "name": "stdout",
     "output_type": "stream",
     "text": [
      "Attendees has been registered in event DS with attendees event id DCS402001\n",
      "Thanks for registering yourselves\n",
      "--------------------------------------------------\n"
     ]
    }
   ],
   "source": [
    "obj.add_attendees()"
   ]
  },
  {
   "cell_type": "code",
   "execution_count": 14,
   "id": "dd9c9d0a-1017-4557-bddd-f60e6270e63c",
   "metadata": {},
   "outputs": [
    {
     "name": "stdin",
     "output_type": "stream",
     "text": [
      "Enter the attendes name:  amrit\n",
      "Enter the attendes email id:  trdfs\n",
      "Enter the age of attended:  20\n"
     ]
    },
    {
     "name": "stdout",
     "output_type": "stream",
     "text": [
      "Attendees has been registered in event DS with attendees event id DCS918001\n",
      "Thanks for registering yourselves\n",
      "--------------------------------------------------\n"
     ]
    }
   ],
   "source": [
    "obj.add_attendees()"
   ]
  },
  {
   "cell_type": "code",
   "execution_count": 15,
   "id": "4cd6a6ad-0582-492d-ac69-3812e0aef735",
   "metadata": {},
   "outputs": [
    {
     "name": "stdout",
     "output_type": "stream",
     "text": [
      "Attendees list is       Event_id attendees_name attendes_emailid attendes_age attendees_eventid\n",
      "0  22197DCS001           Ajay          tgrfdsc           20         DCS512001\n",
      "1  22197DCS001       Dishhant       tyrfteewsd           20         DCS402001\n",
      "2  22197DCS001          amrit            trdfs           20         DCS918001\n",
      "Total number of attendees in a event are:  3\n"
     ]
    }
   ],
   "source": [
    "obj.get_attendees_list()"
   ]
  },
  {
   "cell_type": "code",
   "execution_count": 16,
   "id": "1bb29ba1-00fb-496a-b23c-7b94423b915b",
   "metadata": {},
   "outputs": [
    {
     "name": "stdin",
     "output_type": "stream",
     "text": [
      "Enter the Attendee ID to remove:  DCS512001\n"
     ]
    },
    {
     "name": "stdout",
     "output_type": "stream",
     "text": [
      "Attendee with ID: DCS918001 has been removed.\n"
     ]
    }
   ],
   "source": [
    "obj.remove_attendees()"
   ]
  },
  {
   "cell_type": "code",
   "execution_count": null,
   "id": "5df0c8c5-0d18-40b2-8964-0e8e9c18aae3",
   "metadata": {},
   "outputs": [],
   "source": []
  }
 ],
 "metadata": {
  "kernelspec": {
   "display_name": "Python 3 (ipykernel)",
   "language": "python",
   "name": "python3"
  },
  "language_info": {
   "codemirror_mode": {
    "name": "ipython",
    "version": 3
   },
   "file_extension": ".py",
   "mimetype": "text/x-python",
   "name": "python",
   "nbconvert_exporter": "python",
   "pygments_lexer": "ipython3",
   "version": "3.10.8"
  }
 },
 "nbformat": 4,
 "nbformat_minor": 5
}
